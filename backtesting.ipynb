{
 "cells": [
  {
   "cell_type": "markdown",
   "metadata": {},
   "source": [
    "## Installing Backtester"
   ]
  },
  {
   "cell_type": "code",
   "execution_count": null,
   "metadata": {},
   "outputs": [],
   "source": [
    "%%capture\n",
    "!pip install ada-prosperity3-backtest"
   ]
  },
  {
   "cell_type": "markdown",
   "metadata": {},
   "source": [
    "## Running Backtest\n"
   ]
  },
  {
   "cell_type": "code",
   "execution_count": null,
   "metadata": {},
   "outputs": [],
   "source": [
    "round_value = 0\n",
    "day_value = 0\n",
    "save_dir = \"backtest_results\" \n",
    "infix = \"trivial_strategy\" \n",
    "\n",
    "# Execute with f-string formatting\n",
    "!ada-prosperity3-backtest script.py --round {round_value} --day {day_value} --save_dir {save_dir} --infix {infix}"
   ]
  }
 ],
 "metadata": {
  "language_info": {
   "name": "python"
  }
 },
 "nbformat": 4,
 "nbformat_minor": 2
}
