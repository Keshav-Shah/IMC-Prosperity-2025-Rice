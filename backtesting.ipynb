{
 "cells": [
  {
   "cell_type": "markdown",
   "metadata": {},
   "source": [
    "## Installing Backtester"
   ]
  },
  {
   "cell_type": "code",
   "execution_count": null,
   "metadata": {},
   "outputs": [],
   "source": [
    "%%capture\n",
    "!pip install ada-prosperity3-backtest"
   ]
  },
  {
   "cell_type": "markdown",
   "metadata": {},
   "source": [
    "## Running Backtest\n"
   ]
  },
  {
   "cell_type": "code",
   "execution_count": null,
   "metadata": {},
   "outputs": [],
   "source": [
    "from ada_prosperity3_backtest.backtest import run_backtest_with_round_and_day\n",
    "from ada_prosperity3_backtest.backtest import SaveConfig\n",
    "\n",
    "save_config = SaveConfig(\n",
    "    script = None, # will automatically extract the script to save using the inspect module\n",
    "    infix = 'trivial_strategy', # will appear in the name of the saved file\n",
    "    save_dir = 'backtest_results',\n",
    ")\n",
    "result = run_backtest_with_round_and_day(trader, round, day, save_config)\n",
    "'''\n",
    "Arguments:\n",
    "    trader: Trader, your strategy\n",
    "    round: int\n",
    "    day: int\n",
    "    save_config: SaveConfig class, consisting of save_config.script (the strategy script string to save), save_config.infix (the infix of saving file) and save_config.save_dir (the directory of the save).\n",
    "Returns:\n",
    "    result: BacktestResult, consisting of:\n",
    "        result.pnls, a list of dictionary, the breakdown of accumulated pnls for each product in each turn.\n",
    "        result.sandbox_logs: list[dict], the sandbox logs, containing your model's output.\n",
    "        result.prices_df: pandas.DataFrame, the price history from the simulation.\n",
    "        result.trades_df: pandas.DataFrame, the trade history from the simulation.\n",
    "'''"
   ]
  }
 ],
 "metadata": {
  "language_info": {
   "name": "python"
  }
 },
 "nbformat": 4,
 "nbformat_minor": 2
}
